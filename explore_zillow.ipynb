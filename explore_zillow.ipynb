{
 "cells": [
  {
   "cell_type": "markdown",
   "id": "20d95523",
   "metadata": {},
   "source": [
    "# Zillow Exploration Exercises\n",
    "\n",
    "### 1. Ask at least 5 questions about the data, keeping in mind that your target variable is logerror. e.g. Is logerror significantly different for properties in LA County vs Orange County vs Ventura County?\n",
    "\n",
    "### 2. Answer those questions through a mix of statistical tests and visualizations."
   ]
  },
  {
   "cell_type": "code",
   "execution_count": 14,
   "id": "4b313a1c",
   "metadata": {},
   "outputs": [],
   "source": [
    "# imports\n",
    "import wrangle_zillow\n",
    "import pandas as pd\n",
    "from matplotlib import pyplot as plt\n",
    "import seaborn as sns\n",
    "from sklearn.model_selection import train_test_split\n",
    "import scipy.stats as stats\n"
   ]
  },
  {
   "cell_type": "code",
   "execution_count": 15,
   "id": "c2072518",
   "metadata": {},
   "outputs": [
    {
     "name": "stderr",
     "output_type": "stream",
     "text": [
      "/Users/sostew/codeup-data-science/clustering-exercises/wrangle_zillow.py:75: UserWarning: Boolean Series key will be reindexed to match DataFrame index.\n",
      "  zillow_filt = zillow_filt[(zillow.bathroomcnt > 0) & (zillow.calculatedfinishedsquarefeet > 300)]\n"
     ]
    },
    {
     "data": {
      "text/html": [
       "<div>\n",
       "<style scoped>\n",
       "    .dataframe tbody tr th:only-of-type {\n",
       "        vertical-align: middle;\n",
       "    }\n",
       "\n",
       "    .dataframe tbody tr th {\n",
       "        vertical-align: top;\n",
       "    }\n",
       "\n",
       "    .dataframe thead th {\n",
       "        text-align: right;\n",
       "    }\n",
       "</style>\n",
       "<table border=\"1\" class=\"dataframe\">\n",
       "  <thead>\n",
       "    <tr style=\"text-align: right;\">\n",
       "      <th></th>\n",
       "      <th>bathroomcnt</th>\n",
       "      <th>bedroomcnt</th>\n",
       "      <th>calculatedfinishedsquarefeet</th>\n",
       "      <th>fips</th>\n",
       "      <th>fullbathcnt</th>\n",
       "      <th>latitude</th>\n",
       "      <th>longitude</th>\n",
       "      <th>roomcnt</th>\n",
       "      <th>yearbuilt</th>\n",
       "      <th>taxvaluedollarcnt</th>\n",
       "      <th>logerror</th>\n",
       "      <th>transactiondate</th>\n",
       "      <th>fips_loc</th>\n",
       "    </tr>\n",
       "  </thead>\n",
       "  <tbody>\n",
       "    <tr>\n",
       "      <th>0</th>\n",
       "      <td>3.5</td>\n",
       "      <td>4.0</td>\n",
       "      <td>3100.0</td>\n",
       "      <td>6059</td>\n",
       "      <td>3.0</td>\n",
       "      <td>33634931.0</td>\n",
       "      <td>-117869207.0</td>\n",
       "      <td>0.0</td>\n",
       "      <td>1998.0</td>\n",
       "      <td>1023282.0</td>\n",
       "      <td>0.025595</td>\n",
       "      <td>2017-01-01</td>\n",
       "      <td>Orange, CA</td>\n",
       "    </tr>\n",
       "    <tr>\n",
       "      <th>1</th>\n",
       "      <td>1.0</td>\n",
       "      <td>2.0</td>\n",
       "      <td>1465.0</td>\n",
       "      <td>6111</td>\n",
       "      <td>1.0</td>\n",
       "      <td>34449266.0</td>\n",
       "      <td>-119281531.0</td>\n",
       "      <td>5.0</td>\n",
       "      <td>1967.0</td>\n",
       "      <td>464000.0</td>\n",
       "      <td>0.055619</td>\n",
       "      <td>2017-01-01</td>\n",
       "      <td>Ventura, CA</td>\n",
       "    </tr>\n",
       "    <tr>\n",
       "      <th>2</th>\n",
       "      <td>2.0</td>\n",
       "      <td>3.0</td>\n",
       "      <td>1243.0</td>\n",
       "      <td>6059</td>\n",
       "      <td>2.0</td>\n",
       "      <td>33886168.0</td>\n",
       "      <td>-117823170.0</td>\n",
       "      <td>6.0</td>\n",
       "      <td>1962.0</td>\n",
       "      <td>564778.0</td>\n",
       "      <td>0.005383</td>\n",
       "      <td>2017-01-01</td>\n",
       "      <td>Orange, CA</td>\n",
       "    </tr>\n",
       "    <tr>\n",
       "      <th>3</th>\n",
       "      <td>3.0</td>\n",
       "      <td>4.0</td>\n",
       "      <td>2376.0</td>\n",
       "      <td>6037</td>\n",
       "      <td>3.0</td>\n",
       "      <td>34245180.0</td>\n",
       "      <td>-118240722.0</td>\n",
       "      <td>0.0</td>\n",
       "      <td>1970.0</td>\n",
       "      <td>145143.0</td>\n",
       "      <td>-0.103410</td>\n",
       "      <td>2017-01-01</td>\n",
       "      <td>Los Angeles, CA</td>\n",
       "    </tr>\n",
       "    <tr>\n",
       "      <th>4</th>\n",
       "      <td>3.0</td>\n",
       "      <td>3.0</td>\n",
       "      <td>1312.0</td>\n",
       "      <td>6037</td>\n",
       "      <td>3.0</td>\n",
       "      <td>34185120.0</td>\n",
       "      <td>-118414640.0</td>\n",
       "      <td>0.0</td>\n",
       "      <td>1964.0</td>\n",
       "      <td>119407.0</td>\n",
       "      <td>0.006940</td>\n",
       "      <td>2017-01-01</td>\n",
       "      <td>Los Angeles, CA</td>\n",
       "    </tr>\n",
       "    <tr>\n",
       "      <th>...</th>\n",
       "      <td>...</td>\n",
       "      <td>...</td>\n",
       "      <td>...</td>\n",
       "      <td>...</td>\n",
       "      <td>...</td>\n",
       "      <td>...</td>\n",
       "      <td>...</td>\n",
       "      <td>...</td>\n",
       "      <td>...</td>\n",
       "      <td>...</td>\n",
       "      <td>...</td>\n",
       "      <td>...</td>\n",
       "      <td>...</td>\n",
       "    </tr>\n",
       "    <tr>\n",
       "      <th>77375</th>\n",
       "      <td>3.0</td>\n",
       "      <td>3.0</td>\n",
       "      <td>1741.0</td>\n",
       "      <td>6037</td>\n",
       "      <td>3.0</td>\n",
       "      <td>34202400.0</td>\n",
       "      <td>-118502000.0</td>\n",
       "      <td>0.0</td>\n",
       "      <td>1980.0</td>\n",
       "      <td>379000.0</td>\n",
       "      <td>-0.002245</td>\n",
       "      <td>2017-09-20</td>\n",
       "      <td>Los Angeles, CA</td>\n",
       "    </tr>\n",
       "    <tr>\n",
       "      <th>77376</th>\n",
       "      <td>2.0</td>\n",
       "      <td>2.0</td>\n",
       "      <td>1286.0</td>\n",
       "      <td>6037</td>\n",
       "      <td>2.0</td>\n",
       "      <td>34245368.0</td>\n",
       "      <td>-118282383.0</td>\n",
       "      <td>0.0</td>\n",
       "      <td>1940.0</td>\n",
       "      <td>354621.0</td>\n",
       "      <td>0.020615</td>\n",
       "      <td>2017-09-20</td>\n",
       "      <td>Los Angeles, CA</td>\n",
       "    </tr>\n",
       "    <tr>\n",
       "      <th>77377</th>\n",
       "      <td>2.0</td>\n",
       "      <td>4.0</td>\n",
       "      <td>1612.0</td>\n",
       "      <td>6111</td>\n",
       "      <td>2.0</td>\n",
       "      <td>34300140.0</td>\n",
       "      <td>-118706327.0</td>\n",
       "      <td>7.0</td>\n",
       "      <td>1964.0</td>\n",
       "      <td>67205.0</td>\n",
       "      <td>0.013209</td>\n",
       "      <td>2017-09-21</td>\n",
       "      <td>Ventura, CA</td>\n",
       "    </tr>\n",
       "    <tr>\n",
       "      <th>77378</th>\n",
       "      <td>1.0</td>\n",
       "      <td>3.0</td>\n",
       "      <td>1032.0</td>\n",
       "      <td>6037</td>\n",
       "      <td>1.0</td>\n",
       "      <td>34040895.0</td>\n",
       "      <td>-118038169.0</td>\n",
       "      <td>0.0</td>\n",
       "      <td>1954.0</td>\n",
       "      <td>49546.0</td>\n",
       "      <td>0.037129</td>\n",
       "      <td>2017-09-21</td>\n",
       "      <td>Los Angeles, CA</td>\n",
       "    </tr>\n",
       "    <tr>\n",
       "      <th>77379</th>\n",
       "      <td>2.0</td>\n",
       "      <td>3.0</td>\n",
       "      <td>1762.0</td>\n",
       "      <td>6037</td>\n",
       "      <td>2.0</td>\n",
       "      <td>33937685.0</td>\n",
       "      <td>-117996709.0</td>\n",
       "      <td>0.0</td>\n",
       "      <td>1955.0</td>\n",
       "      <td>522000.0</td>\n",
       "      <td>0.007204</td>\n",
       "      <td>2017-09-25</td>\n",
       "      <td>Los Angeles, CA</td>\n",
       "    </tr>\n",
       "  </tbody>\n",
       "</table>\n",
       "<p>71386 rows × 13 columns</p>\n",
       "</div>"
      ],
      "text/plain": [
       "       bathroomcnt  bedroomcnt  calculatedfinishedsquarefeet  fips  \\\n",
       "0              3.5         4.0                        3100.0  6059   \n",
       "1              1.0         2.0                        1465.0  6111   \n",
       "2              2.0         3.0                        1243.0  6059   \n",
       "3              3.0         4.0                        2376.0  6037   \n",
       "4              3.0         3.0                        1312.0  6037   \n",
       "...            ...         ...                           ...   ...   \n",
       "77375          3.0         3.0                        1741.0  6037   \n",
       "77376          2.0         2.0                        1286.0  6037   \n",
       "77377          2.0         4.0                        1612.0  6111   \n",
       "77378          1.0         3.0                        1032.0  6037   \n",
       "77379          2.0         3.0                        1762.0  6037   \n",
       "\n",
       "       fullbathcnt    latitude    longitude  roomcnt  yearbuilt  \\\n",
       "0              3.0  33634931.0 -117869207.0      0.0     1998.0   \n",
       "1              1.0  34449266.0 -119281531.0      5.0     1967.0   \n",
       "2              2.0  33886168.0 -117823170.0      6.0     1962.0   \n",
       "3              3.0  34245180.0 -118240722.0      0.0     1970.0   \n",
       "4              3.0  34185120.0 -118414640.0      0.0     1964.0   \n",
       "...            ...         ...          ...      ...        ...   \n",
       "77375          3.0  34202400.0 -118502000.0      0.0     1980.0   \n",
       "77376          2.0  34245368.0 -118282383.0      0.0     1940.0   \n",
       "77377          2.0  34300140.0 -118706327.0      7.0     1964.0   \n",
       "77378          1.0  34040895.0 -118038169.0      0.0     1954.0   \n",
       "77379          2.0  33937685.0 -117996709.0      0.0     1955.0   \n",
       "\n",
       "       taxvaluedollarcnt  logerror transactiondate         fips_loc  \n",
       "0              1023282.0  0.025595      2017-01-01       Orange, CA  \n",
       "1               464000.0  0.055619      2017-01-01      Ventura, CA  \n",
       "2               564778.0  0.005383      2017-01-01       Orange, CA  \n",
       "3               145143.0 -0.103410      2017-01-01  Los Angeles, CA  \n",
       "4               119407.0  0.006940      2017-01-01  Los Angeles, CA  \n",
       "...                  ...       ...             ...              ...  \n",
       "77375           379000.0 -0.002245      2017-09-20  Los Angeles, CA  \n",
       "77376           354621.0  0.020615      2017-09-20  Los Angeles, CA  \n",
       "77377            67205.0  0.013209      2017-09-21      Ventura, CA  \n",
       "77378            49546.0  0.037129      2017-09-21  Los Angeles, CA  \n",
       "77379           522000.0  0.007204      2017-09-25  Los Angeles, CA  \n",
       "\n",
       "[71386 rows x 13 columns]"
      ]
     },
     "execution_count": 15,
     "metadata": {},
     "output_type": "execute_result"
    }
   ],
   "source": [
    "# get data\n",
    "zillow = wrangle_zillow.wrangle_zillow(0.6, 0.8)\n",
    "zillow"
   ]
  },
  {
   "cell_type": "markdown",
   "id": "868e58ee",
   "metadata": {},
   "source": [
    "#### Question 1: What are the individual distributions of the features?"
   ]
  },
  {
   "cell_type": "code",
   "execution_count": 16,
   "id": "d61856a0",
   "metadata": {},
   "outputs": [
    {
     "data": {
      "image/png": "[encoded data removed]",
      "text/plain": [
       "<Figure size 432x288 with 12 Axes>"
      ]
     },
     "metadata": {
      "needs_background": "light"
     },
     "output_type": "display_data"
    }
   ],
   "source": [
    "# view individual distributions of features\n",
    "zillow.hist();"
   ]
  },
  {
   "cell_type": "markdown",
   "id": "01c017b5",
   "metadata": {},
   "source": [
    "#### Answer 1:\n",
    "- `bedroomcnt`, `yearbuilt` are normally distributed.\n",
    "- There are outliers in `calculatedfinishedsquarefeet`, `bathroomcnt`, `bedroomcnt`, `fullbathcnt`, `roomcnt`, and `taxvaluedollarcnt`.\n",
    " - Removing outliers from `bathroomcnt` and `bedroomcnt` resolved the outlier issue for `roomcnt`.\n",
    "- `taxvaluedollarcnt` has the biggest outlier problem\n",
    "- Data needs to be scaled\n",
    "\n",
    "At this point, I want to remove outliers since I intend to use clustering with this data. Once that has been completed, and before moving onto multivariate analysis, I will split the data."
   ]
  },
  {
   "cell_type": "code",
   "execution_count": 17,
   "id": "7d00acf9",
   "metadata": {},
   "outputs": [],
   "source": [
    "# function to remove outliers\n",
    "def remove_outliers(df, cols, k):\n",
    "    '''\n",
    "    This function takes in a list of column names from a dataframe and a \n",
    "    k-value which is used to specify the upper and lower bounds for\n",
    "    removing outliers. It returns the dataframe with the outliers removed.\n",
    "    '''\n",
    "    # make for loop to remove outliers in each column\n",
    "    for col in cols:\n",
    "        # get quartiles\n",
    "        q1, q3 = df[col].quantile([.25, .75])\n",
    "        # compute iqr\n",
    "        iqr = q3 - q1\n",
    "        # get cutoff points for removing outliers\n",
    "        upper = q3 + k * iqr\n",
    "        lower = q1 - k * iqr\n",
    "        # remove outliers\n",
    "        df = df[(df[col]>lower)&(df[col]<upper)]\n",
    "    return df"
   ]
  },
  {
   "cell_type": "code",
   "execution_count": 18,
   "id": "7d263878",
   "metadata": {},
   "outputs": [
    {
     "data": {
      "image/png": "[encoded data removed]",
      "text/plain": [
       "<Figure size 432x288 with 12 Axes>"
      ]
     },
     "metadata": {
      "needs_background": "light"
     },
     "output_type": "display_data"
    }
   ],
   "source": [
    "# remove outliers\n",
    "zillow = remove_outliers(zillow, ['calculatedfinishedsquarefeet', 'bathroomcnt', 'bedroomcnt',\n",
    "                        'fullbathcnt', 'taxvaluedollarcnt'], 1.5)\n",
    "# view updated distributions\n",
    "zillow.hist();"
   ]
  },
  {
   "cell_type": "code",
   "execution_count": 19,
   "id": "85335ddc",
   "metadata": {},
   "outputs": [
    {
     "data": {
      "text/html": [
       "<div>\n",
       "<style scoped>\n",
       "    .dataframe tbody tr th:only-of-type {\n",
       "        vertical-align: middle;\n",
       "    }\n",
       "\n",
       "    .dataframe tbody tr th {\n",
       "        vertical-align: top;\n",
       "    }\n",
       "\n",
       "    .dataframe thead th {\n",
       "        text-align: right;\n",
       "    }\n",
       "</style>\n",
       "<table border=\"1\" class=\"dataframe\">\n",
       "  <thead>\n",
       "    <tr style=\"text-align: right;\">\n",
       "      <th></th>\n",
       "      <th>bathroomcnt</th>\n",
       "      <th>bedroomcnt</th>\n",
       "      <th>calculatedfinishedsquarefeet</th>\n",
       "      <th>fips</th>\n",
       "      <th>fullbathcnt</th>\n",
       "      <th>latitude</th>\n",
       "      <th>longitude</th>\n",
       "      <th>roomcnt</th>\n",
       "      <th>yearbuilt</th>\n",
       "      <th>taxvaluedollarcnt</th>\n",
       "      <th>logerror</th>\n",
       "      <th>transactiondate</th>\n",
       "      <th>fips_loc</th>\n",
       "    </tr>\n",
       "  </thead>\n",
       "  <tbody>\n",
       "    <tr>\n",
       "      <th>18386</th>\n",
       "      <td>2.0</td>\n",
       "      <td>4.0</td>\n",
       "      <td>1183.0</td>\n",
       "      <td>6037</td>\n",
       "      <td>2.0</td>\n",
       "      <td>34037012.0</td>\n",
       "      <td>-117964959.0</td>\n",
       "      <td>0.0</td>\n",
       "      <td>1955.0</td>\n",
       "      <td>51683.0</td>\n",
       "      <td>-0.047739</td>\n",
       "      <td>2017-03-20</td>\n",
       "      <td>Los Angeles, CA</td>\n",
       "    </tr>\n",
       "    <tr>\n",
       "      <th>18771</th>\n",
       "      <td>3.0</td>\n",
       "      <td>4.0</td>\n",
       "      <td>1984.0</td>\n",
       "      <td>6037</td>\n",
       "      <td>3.0</td>\n",
       "      <td>33805765.0</td>\n",
       "      <td>-118311926.0</td>\n",
       "      <td>0.0</td>\n",
       "      <td>1985.0</td>\n",
       "      <td>461539.0</td>\n",
       "      <td>-0.001810</td>\n",
       "      <td>2017-03-21</td>\n",
       "      <td>Los Angeles, CA</td>\n",
       "    </tr>\n",
       "    <tr>\n",
       "      <th>7859</th>\n",
       "      <td>1.5</td>\n",
       "      <td>2.0</td>\n",
       "      <td>1392.0</td>\n",
       "      <td>6059</td>\n",
       "      <td>1.0</td>\n",
       "      <td>33777778.0</td>\n",
       "      <td>-117928673.0</td>\n",
       "      <td>5.0</td>\n",
       "      <td>1973.0</td>\n",
       "      <td>161900.0</td>\n",
       "      <td>-0.001147</td>\n",
       "      <td>2017-02-03</td>\n",
       "      <td>Orange, CA</td>\n",
       "    </tr>\n",
       "    <tr>\n",
       "      <th>70211</th>\n",
       "      <td>1.0</td>\n",
       "      <td>2.0</td>\n",
       "      <td>1000.0</td>\n",
       "      <td>6037</td>\n",
       "      <td>1.0</td>\n",
       "      <td>34661493.0</td>\n",
       "      <td>-118396046.0</td>\n",
       "      <td>0.0</td>\n",
       "      <td>1963.0</td>\n",
       "      <td>176653.0</td>\n",
       "      <td>0.027273</td>\n",
       "      <td>2017-08-25</td>\n",
       "      <td>Los Angeles, CA</td>\n",
       "    </tr>\n",
       "    <tr>\n",
       "      <th>27043</th>\n",
       "      <td>3.0</td>\n",
       "      <td>3.0</td>\n",
       "      <td>2111.0</td>\n",
       "      <td>6037</td>\n",
       "      <td>3.0</td>\n",
       "      <td>34216953.0</td>\n",
       "      <td>-118568079.0</td>\n",
       "      <td>0.0</td>\n",
       "      <td>1969.0</td>\n",
       "      <td>116158.0</td>\n",
       "      <td>-0.031394</td>\n",
       "      <td>2017-04-17</td>\n",
       "      <td>Los Angeles, CA</td>\n",
       "    </tr>\n",
       "  </tbody>\n",
       "</table>\n",
       "</div>"
      ],
      "text/plain": [
       "       bathroomcnt  bedroomcnt  calculatedfinishedsquarefeet  fips  \\\n",
       "18386          2.0         4.0                        1183.0  6037   \n",
       "18771          3.0         4.0                        1984.0  6037   \n",
       "7859           1.5         2.0                        1392.0  6059   \n",
       "70211          1.0         2.0                        1000.0  6037   \n",
       "27043          3.0         3.0                        2111.0  6037   \n",
       "\n",
       "       fullbathcnt    latitude    longitude  roomcnt  yearbuilt  \\\n",
       "18386          2.0  34037012.0 -117964959.0      0.0     1955.0   \n",
       "18771          3.0  33805765.0 -118311926.0      0.0     1985.0   \n",
       "7859           1.0  33777778.0 -117928673.0      5.0     1973.0   \n",
       "70211          1.0  34661493.0 -118396046.0      0.0     1963.0   \n",
       "27043          3.0  34216953.0 -118568079.0      0.0     1969.0   \n",
       "\n",
       "       taxvaluedollarcnt  logerror transactiondate         fips_loc  \n",
       "18386            51683.0 -0.047739      2017-03-20  Los Angeles, CA  \n",
       "18771           461539.0 -0.001810      2017-03-21  Los Angeles, CA  \n",
       "7859            161900.0 -0.001147      2017-02-03       Orange, CA  \n",
       "70211           176653.0  0.027273      2017-08-25  Los Angeles, CA  \n",
       "27043           116158.0 -0.031394      2017-04-17  Los Angeles, CA  "
      ]
     },
     "execution_count": 19,
     "metadata": {},
     "output_type": "execute_result"
    }
   ],
   "source": [
    "# function to split data\n",
    "def split_data(df):\n",
    "    '''\n",
    "    This function takes in a dataframe and splits it into three dataframes.\n",
    "    It returns these dataframes in this order: train, validate, test.\n",
    "    Train makes up 56% of the total observations, validate 24%, and test 20%.\n",
    "    '''\n",
    "    from sklearn.model_selection import train_test_split\n",
    "    train, test = train_test_split(df, test_size=0.2, random_state=123)\n",
    "    train, validate = train_test_split(train, test_size=0.3, random_state=123)\n",
    "    return train, validate, test\n",
    "# split data\n",
    "train, validate, test = split_data(zillow)\n",
    "# preview train\n",
    "train.head()"
   ]
  },
  {
   "cell_type": "code",
   "execution_count": 20,
   "id": "51b37144",
   "metadata": {},
   "outputs": [
    {
     "data": {
      "text/html": [
       "<div>\n",
       "<style scoped>\n",
       "    .dataframe tbody tr th:only-of-type {\n",
       "        vertical-align: middle;\n",
       "    }\n",
       "\n",
       "    .dataframe tbody tr th {\n",
       "        vertical-align: top;\n",
       "    }\n",
       "\n",
       "    .dataframe thead th {\n",
       "        text-align: right;\n",
       "    }\n",
       "</style>\n",
       "<table border=\"1\" class=\"dataframe\">\n",
       "  <thead>\n",
       "    <tr style=\"text-align: right;\">\n",
       "      <th></th>\n",
       "      <th>count</th>\n",
       "      <th>mean</th>\n",
       "      <th>std</th>\n",
       "      <th>min</th>\n",
       "      <th>25%</th>\n",
       "      <th>50%</th>\n",
       "      <th>75%</th>\n",
       "      <th>max</th>\n",
       "    </tr>\n",
       "  </thead>\n",
       "  <tbody>\n",
       "    <tr>\n",
       "      <th>bathroomcnt</th>\n",
       "      <td>35946.0</td>\n",
       "      <td>2.097480e+00</td>\n",
       "      <td>0.718996</td>\n",
       "      <td>1.000000e+00</td>\n",
       "      <td>2.000000e+00</td>\n",
       "      <td>2.000000e+00</td>\n",
       "      <td>2.500000e+00</td>\n",
       "      <td>4.000000e+00</td>\n",
       "    </tr>\n",
       "    <tr>\n",
       "      <th>bedroomcnt</th>\n",
       "      <td>35946.0</td>\n",
       "      <td>2.896706e+00</td>\n",
       "      <td>0.941101</td>\n",
       "      <td>0.000000e+00</td>\n",
       "      <td>2.000000e+00</td>\n",
       "      <td>3.000000e+00</td>\n",
       "      <td>3.000000e+00</td>\n",
       "      <td>6.000000e+00</td>\n",
       "    </tr>\n",
       "    <tr>\n",
       "      <th>calculatedfinishedsquarefeet</th>\n",
       "      <td>35946.0</td>\n",
       "      <td>1.556183e+03</td>\n",
       "      <td>584.159074</td>\n",
       "      <td>3.040000e+02</td>\n",
       "      <td>1.134000e+03</td>\n",
       "      <td>1.443000e+03</td>\n",
       "      <td>1.873750e+03</td>\n",
       "      <td>3.416000e+03</td>\n",
       "    </tr>\n",
       "    <tr>\n",
       "      <th>fips</th>\n",
       "      <td>35946.0</td>\n",
       "      <td>6.049118e+03</td>\n",
       "      <td>20.687157</td>\n",
       "      <td>6.037000e+03</td>\n",
       "      <td>6.037000e+03</td>\n",
       "      <td>6.037000e+03</td>\n",
       "      <td>6.059000e+03</td>\n",
       "      <td>6.111000e+03</td>\n",
       "    </tr>\n",
       "    <tr>\n",
       "      <th>fullbathcnt</th>\n",
       "      <td>35946.0</td>\n",
       "      <td>2.033606e+00</td>\n",
       "      <td>0.711986</td>\n",
       "      <td>1.000000e+00</td>\n",
       "      <td>2.000000e+00</td>\n",
       "      <td>2.000000e+00</td>\n",
       "      <td>2.000000e+00</td>\n",
       "      <td>4.000000e+00</td>\n",
       "    </tr>\n",
       "    <tr>\n",
       "      <th>latitude</th>\n",
       "      <td>35946.0</td>\n",
       "      <td>3.400984e+07</td>\n",
       "      <td>270467.005841</td>\n",
       "      <td>3.333960e+07</td>\n",
       "      <td>3.381021e+07</td>\n",
       "      <td>3.401296e+07</td>\n",
       "      <td>3.418102e+07</td>\n",
       "      <td>3.481240e+07</td>\n",
       "    </tr>\n",
       "    <tr>\n",
       "      <th>longitude</th>\n",
       "      <td>35946.0</td>\n",
       "      <td>-1.181896e+08</td>\n",
       "      <td>359897.580269</td>\n",
       "      <td>-1.194484e+08</td>\n",
       "      <td>-1.184016e+08</td>\n",
       "      <td>-1.181549e+08</td>\n",
       "      <td>-1.179190e+08</td>\n",
       "      <td>-1.175546e+08</td>\n",
       "    </tr>\n",
       "    <tr>\n",
       "      <th>roomcnt</th>\n",
       "      <td>35946.0</td>\n",
       "      <td>1.581205e+00</td>\n",
       "      <td>2.849386</td>\n",
       "      <td>0.000000e+00</td>\n",
       "      <td>0.000000e+00</td>\n",
       "      <td>0.000000e+00</td>\n",
       "      <td>0.000000e+00</td>\n",
       "      <td>1.200000e+01</td>\n",
       "    </tr>\n",
       "    <tr>\n",
       "      <th>yearbuilt</th>\n",
       "      <td>35946.0</td>\n",
       "      <td>1.968367e+03</td>\n",
       "      <td>22.427053</td>\n",
       "      <td>1.878000e+03</td>\n",
       "      <td>1.954000e+03</td>\n",
       "      <td>1.969000e+03</td>\n",
       "      <td>1.985000e+03</td>\n",
       "      <td>2.015000e+03</td>\n",
       "    </tr>\n",
       "    <tr>\n",
       "      <th>taxvaluedollarcnt</th>\n",
       "      <td>35946.0</td>\n",
       "      <td>3.584041e+05</td>\n",
       "      <td>218940.068240</td>\n",
       "      <td>1.000000e+03</td>\n",
       "      <td>1.876065e+05</td>\n",
       "      <td>3.266830e+05</td>\n",
       "      <td>4.889090e+05</td>\n",
       "      <td>1.015583e+06</td>\n",
       "    </tr>\n",
       "    <tr>\n",
       "      <th>logerror</th>\n",
       "      <td>35946.0</td>\n",
       "      <td>1.466264e-02</td>\n",
       "      <td>0.152183</td>\n",
       "      <td>-4.453964e+00</td>\n",
       "      <td>-2.308771e-02</td>\n",
       "      <td>6.040758e-03</td>\n",
       "      <td>3.586158e-02</td>\n",
       "      <td>3.394544e+00</td>\n",
       "    </tr>\n",
       "  </tbody>\n",
       "</table>\n",
       "</div>"
      ],
      "text/plain": [
       "                                count          mean            std  \\\n",
       "bathroomcnt                   35946.0  2.097480e+00       0.718996   \n",
       "bedroomcnt                    35946.0  2.896706e+00       0.941101   \n",
       "calculatedfinishedsquarefeet  35946.0  1.556183e+03     584.159074   \n",
       "fips                          35946.0  6.049118e+03      20.687157   \n",
       "fullbathcnt                   35946.0  2.033606e+00       0.711986   \n",
       "latitude                      35946.0  3.400984e+07  270467.005841   \n",
       "longitude                     35946.0 -1.181896e+08  359897.580269   \n",
       "roomcnt                       35946.0  1.581205e+00       2.849386   \n",
       "yearbuilt                     35946.0  1.968367e+03      22.427053   \n",
       "taxvaluedollarcnt             35946.0  3.584041e+05  218940.068240   \n",
       "logerror                      35946.0  1.466264e-02       0.152183   \n",
       "\n",
       "                                       min           25%           50%  \\\n",
       "bathroomcnt                   1.000000e+00  2.000000e+00  2.000000e+00   \n",
       "bedroomcnt                    0.000000e+00  2.000000e+00  3.000000e+00   \n",
       "calculatedfinishedsquarefeet  3.040000e+02  1.134000e+03  1.443000e+03   \n",
       "fips                          6.037000e+03  6.037000e+03  6.037000e+03   \n",
       "fullbathcnt                   1.000000e+00  2.000000e+00  2.000000e+00   \n",
       "latitude                      3.333960e+07  3.381021e+07  3.401296e+07   \n",
       "longitude                    -1.194484e+08 -1.184016e+08 -1.181549e+08   \n",
       "roomcnt                       0.000000e+00  0.000000e+00  0.000000e+00   \n",
       "yearbuilt                     1.878000e+03  1.954000e+03  1.969000e+03   \n",
       "taxvaluedollarcnt             1.000000e+03  1.876065e+05  3.266830e+05   \n",
       "logerror                     -4.453964e+00 -2.308771e-02  6.040758e-03   \n",
       "\n",
       "                                       75%           max  \n",
       "bathroomcnt                   2.500000e+00  4.000000e+00  \n",
       "bedroomcnt                    3.000000e+00  6.000000e+00  \n",
       "calculatedfinishedsquarefeet  1.873750e+03  3.416000e+03  \n",
       "fips                          6.059000e+03  6.111000e+03  \n",
       "fullbathcnt                   2.000000e+00  4.000000e+00  \n",
       "latitude                      3.418102e+07  3.481240e+07  \n",
       "longitude                    -1.179190e+08 -1.175546e+08  \n",
       "roomcnt                       0.000000e+00  1.200000e+01  \n",
       "yearbuilt                     1.985000e+03  2.015000e+03  \n",
       "taxvaluedollarcnt             4.889090e+05  1.015583e+06  \n",
       "logerror                      3.586158e-02  3.394544e+00  "
      ]
     },
     "execution_count": 20,
     "metadata": {},
     "output_type": "execute_result"
    }
   ],
   "source": [
    "train.describe().T"
   ]
  },
  {
   "cell_type": "code",
   "execution_count": 21,
   "id": "fcbf49b4",
   "metadata": {},
   "outputs": [
    {
     "name": "stdout",
     "output_type": "stream",
     "text": [
      "<class 'pandas.core.frame.DataFrame'>\n",
      "Int64Index: 35946 entries, 18386 to 15530\n",
      "Data columns (total 13 columns):\n",
      " #   Column                        Non-Null Count  Dtype  \n",
      "---  ------                        --------------  -----  \n",
      " 0   bathroomcnt                   35946 non-null  float64\n",
      " 1   bedroomcnt                    35946 non-null  float64\n",
      " 2   calculatedfinishedsquarefeet  35946 non-null  float64\n",
      " 3   fips                          35946 non-null  int64  \n",
      " 4   fullbathcnt                   35946 non-null  float64\n",
      " 5   latitude                      35946 non-null  float64\n",
      " 6   longitude                     35946 non-null  float64\n",
      " 7   roomcnt                       35946 non-null  float64\n",
      " 8   yearbuilt                     35946 non-null  float64\n",
      " 9   taxvaluedollarcnt             35946 non-null  float64\n",
      " 10  logerror                      35946 non-null  float64\n",
      " 11  transactiondate               35946 non-null  object \n",
      " 12  fips_loc                      35946 non-null  object \n",
      "dtypes: float64(10), int64(1), object(2)\n",
      "memory usage: 3.8+ MB\n"
     ]
    }
   ],
   "source": [
    "train.info()"
   ]
  },
  {
   "cell_type": "markdown",
   "id": "9ecaea62",
   "metadata": {},
   "source": [
    "#### Question 2: Is there a relationship between `logerror` and `yearbuilt`?\n",
    "\n",
    "- Maybe values of homes built during a certain time period are more difficult to accurately predict."
   ]
  },
  {
   "cell_type": "code",
   "execution_count": 22,
   "id": "db8d1cc5",
   "metadata": {},
   "outputs": [
    {
     "data": {
      "text/plain": [
       "<seaborn.axisgrid.FacetGrid at 0x7fab3822b160>"
      ]
     },
     "execution_count": 22,
     "metadata": {},
     "output_type": "execute_result"
    },
    {
     "data": {
      "image/png": "[encoded data removed]",
      "text/plain": [
       "<Figure size 360x360 with 1 Axes>"
      ]
     },
     "metadata": {
      "needs_background": "light"
     },
     "output_type": "display_data"
    }
   ],
   "source": [
    "sns.relplot(data=train, x='yearbuilt', y='logerror')"
   ]
  },
  {
   "cell_type": "markdown",
   "id": "bfb7829e",
   "metadata": {},
   "source": [
    "There doesn't appear to be much of a relationship between `yearbuilt` and `logerror`. To be sure, though, I'll run a statistical test.\n",
    "\n",
    "- $H_{0}$: There is not a significant linear relationship between `yearbuilt` and `logerror`.\n",
    "- $H_{a}$: There is a significant linear relationship between `yearbuilt` and `logerror`."
   ]
  },
  {
   "cell_type": "code",
   "execution_count": 23,
   "id": "71d6bcf2",
   "metadata": {},
   "outputs": [
    {
     "data": {
      "text/plain": [
       "(-0.005429944398407602, 0.3032643581904352)"
      ]
     },
     "execution_count": 23,
     "metadata": {},
     "output_type": "execute_result"
    }
   ],
   "source": [
    "alpha = 0.05\n",
    "corr, p = stats.pearsonr(train.yearbuilt, train.logerror)\n",
    "corr, p"
   ]
  },
  {
   "cell_type": "markdown",
   "id": "a06a3963",
   "metadata": {},
   "source": [
    "#### Answer 2: Based on the visualization and the results of the correlation test, there is not a significant linear relationship between the two variables.\n",
    "\n",
    "#### Question 3: Is there a relationship between `logerror` and `calculatedfinishedsquarefeet`?"
   ]
  },
  {
   "cell_type": "code",
   "execution_count": 24,
   "id": "b72cf50d",
   "metadata": {},
   "outputs": [
    {
     "data": {
      "text/plain": [
       "<seaborn.axisgrid.FacetGrid at 0x7fab3bea8460>"
      ]
     },
     "execution_count": 24,
     "metadata": {},
     "output_type": "execute_result"
    },
    {
     "data": {
      "image/png": "[encoded data removed]",
      "text/plain": [
       "<Figure size 360x360 with 1 Axes>"
      ]
     },
     "metadata": {
      "needs_background": "light"
     },
     "output_type": "display_data"
    }
   ],
   "source": [
    "sns.relplot(data=train, x='calculatedfinishedsquarefeet', y='logerror')"
   ]
  },
  {
   "cell_type": "markdown",
   "id": "8dce4ee6",
   "metadata": {},
   "source": [
    "At first glance, it appears there is a relationship between `logerror` and `calculatedfinishedsquarefeet`. Next, I'll run a correlation test to be sure there is a significant linear relationship.\n",
    "\n",
    "- $H_{0}$: There is not a significant linear relationship between `logerror` and `calculatedfinishedsquarefeet`.\n",
    "- $H_{a}$: There is a significant linear relationship between `logerror` and `calculatedfinishedsquarefeet`."
   ]
  },
  {
   "cell_type": "code",
   "execution_count": 25,
   "id": "6b0d49f2",
   "metadata": {},
   "outputs": [
    {
     "data": {
      "text/plain": [
       "(0.02145305258227545, 4.747879872501481e-05)"
      ]
     },
     "execution_count": 25,
     "metadata": {},
     "output_type": "execute_result"
    }
   ],
   "source": [
    "corr, p = stats.pearsonr(train.logerror, train.calculatedfinishedsquarefeet)\n",
    "corr, p"
   ]
  },
  {
   "cell_type": "markdown",
   "id": "5587d883",
   "metadata": {},
   "source": [
    "#### Answer 3: There is a significant linear relationship between `logerror` and `calculatedfinishedsquarefeet`.\n",
    "\n",
    "Based on the visualization and the results of the correlation test, I conclude there is a significant linear relationship between these two variables. It seems as though smaller homes are more likely to have greater error in their predicted value."
   ]
  },
  {
   "cell_type": "markdown",
   "id": "220ae4aa",
   "metadata": {},
   "source": [
    "#### Question 4: Does `logerror` differ based on the property's county?"
   ]
  },
  {
   "cell_type": "code",
   "execution_count": 26,
   "id": "ada99d0a",
   "metadata": {},
   "outputs": [
    {
     "data": {
      "text/plain": [
       "<AxesSubplot:xlabel='fips_loc', ylabel='logerror'>"
      ]
     },
     "execution_count": 26,
     "metadata": {},
     "output_type": "execute_result"
    },
    {
     "data": {
      "image/png": "[encoded data removed]",
      "text/plain": [
       "<Figure size 432x288 with 1 Axes>"
      ]
     },
     "metadata": {
      "needs_background": "light"
     },
     "output_type": "display_data"
    }
   ],
   "source": [
    "sns.boxplot(data=train, x='fips_loc', y='logerror')"
   ]
  },
  {
   "cell_type": "markdown",
   "id": "e1a3fc81",
   "metadata": {},
   "source": [
    "There does appear to be somewhat of a difference in logerror between the three counties included in this data. I'll run a statistical test to be sure.\n",
    "\n",
    "- $H_{0}$: There is not a significant difference in mean logerror across the three counties.\n",
    "- $H_{a}$: There is a significant difference in mean logerror across the three counties."
   ]
  },
  {
   "cell_type": "code",
   "execution_count": 27,
   "id": "e156e606",
   "metadata": {},
   "outputs": [],
   "source": [
    "# make separate dataframes for each county's data\n",
    "la_county_data = train[train.fips_loc == 'Los Angeles, CA']\n",
    "orange_county_data = train[train.fips_loc == 'Orange, CA']\n",
    "ventura_county_data = train[train.fips_loc == 'Ventura, CA']"
   ]
  },
  {
   "cell_type": "code",
   "execution_count": 31,
   "id": "797a27ff",
   "metadata": {},
   "outputs": [
    {
     "name": "stdout",
     "output_type": "stream",
     "text": [
      "LA County Logerror Variance: 0.022657609222316313\n",
      "Orange County Logerror Variance: 0.025369090078680667\n",
      "Ventura County Logerror Variance: 0.01939303846175066\n"
     ]
    }
   ],
   "source": [
    "print(f'LA County Logerror Variance: {la_county_data.logerror.var()}')\n",
    "print(f'Orange County Logerror Variance: {orange_county_data.logerror.var()}')\n",
    "print(f'Ventura County Logerror Variance: {ventura_county_data.logerror.var()}')"
   ]
  },
  {
   "cell_type": "markdown",
   "id": "531dce7d",
   "metadata": {},
   "source": [
    "The variances are so small it should be fine to use the ANOVA test to determine if these three counties vary significantly in terms of logerror."
   ]
  },
  {
   "cell_type": "code",
   "execution_count": 32,
   "id": "128198da",
   "metadata": {},
   "outputs": [
    {
     "data": {
      "text/plain": [
       "(1.4342639935975672, 0.23830432062962692)"
      ]
     },
     "execution_count": 32,
     "metadata": {},
     "output_type": "execute_result"
    }
   ],
   "source": [
    "f, p = stats.f_oneway(la_county_data.logerror, orange_county_data.logerror, ventura_county_data.logerror)\n",
    "f, p"
   ]
  },
  {
   "cell_type": "markdown",
   "id": "3362bfeb",
   "metadata": {},
   "source": [
    "The p-value is greater than alpha (0.05), therefore I fail to reject the null hypothesis.\n",
    "\n",
    "#### Answer 4: There is not a significant difference in mean logerror across Los Angeles, Orange, and Ventura counties."
   ]
  },
  {
   "cell_type": "markdown",
   "id": "39257609",
   "metadata": {},
   "source": [
    "#### Question 5: If I control for county (`fips`), does `logerror` differ across `yearbuilt`?"
   ]
  },
  {
   "cell_type": "code",
   "execution_count": null,
   "id": "cf572d4d",
   "metadata": {},
   "outputs": [],
   "source": [
    "la_county_data[la_county_data]"
   ]
  }
 ],
 "metadata": {
  "kernelspec": {
   "display_name": "Python 3",
   "language": "python",
   "name": "python3"
  },
  "language_info": {
   "codemirror_mode": {
    "name": "ipython",
    "version": 3
   },
   "file_extension": ".py",
   "mimetype": "text/x-python",
   "name": "python",
   "nbconvert_exporter": "python",
   "pygments_lexer": "ipython3",
   "version": "3.8.8"
  }
 },
 "nbformat": 4,
 "nbformat_minor": 5
}
