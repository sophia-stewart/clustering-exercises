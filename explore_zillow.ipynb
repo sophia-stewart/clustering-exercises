{
 "cells": [
  {
   "cell_type": "markdown",
   "id": "20d95523",
   "metadata": {},
   "source": [
    "# Zillow Exploration Exercises\n",
    "\n",
    "### 1. Ask at least 5 questions about the data, keeping in mind that your target variable is logerror. e.g. Is logerror significantly different for properties in LA County vs Orange County vs Ventura County?\n",
    "\n",
    "### 2. Answer those questions through a mix of statistical tests and visualizations."
   ]
  },
  {
   "cell_type": "code",
   "execution_count": 1,
   "id": "4b313a1c",
   "metadata": {},
   "outputs": [],
   "source": [
    "# imports\n",
    "import wrangle_zillow\n",
    "import pandas as pd\n",
    "from matplotlib import pyplot as plt\n",
    "import seaborn as sns\n",
    "from sklearn.model_selection import train_test_split\n",
    "import scipy.stats as stats\n"
   ]
  },
  {
   "cell_type": "code",
   "execution_count": 3,
   "id": "c2072518",
   "metadata": {},
   "outputs": [
    {
     "name": "stderr",
     "output_type": "stream",
     "text": [
      "/Users/sostew/codeup-data-science/clustering-exercises/wrangle_zillow.py:75: UserWarning: Boolean Series key will be reindexed to match DataFrame index.\n",
      "  zillow_filt = zillow_filt[(zillow.bathroomcnt > 0) & (zillow.calculatedfinishedsquarefeet > 300)]\n"
     ]
    },
    {
     "data": {
      "text/html": [
       "<div>\n",
       "<style scoped>\n",
       "    .dataframe tbody tr th:only-of-type {\n",
       "        vertical-align: middle;\n",
       "    }\n",
       "\n",
       "    .dataframe tbody tr th {\n",
       "        vertical-align: top;\n",
       "    }\n",
       "\n",
       "    .dataframe thead th {\n",
       "        text-align: right;\n",
       "    }\n",
       "</style>\n",
       "<table border=\"1\" class=\"dataframe\">\n",
       "  <thead>\n",
       "    <tr style=\"text-align: right;\">\n",
       "      <th></th>\n",
       "      <th>bathroomcnt</th>\n",
       "      <th>bedroomcnt</th>\n",
       "      <th>calculatedfinishedsquarefeet</th>\n",
       "      <th>fips</th>\n",
       "      <th>fullbathcnt</th>\n",
       "      <th>latitude</th>\n",
       "      <th>longitude</th>\n",
       "      <th>roomcnt</th>\n",
       "      <th>yearbuilt</th>\n",
       "      <th>taxvaluedollarcnt</th>\n",
       "      <th>logerror</th>\n",
       "      <th>transactiondate</th>\n",
       "    </tr>\n",
       "  </thead>\n",
       "  <tbody>\n",
       "    <tr>\n",
       "      <th>0</th>\n",
       "      <td>3.5</td>\n",
       "      <td>4.0</td>\n",
       "      <td>3100.0</td>\n",
       "      <td>6059.0</td>\n",
       "      <td>3.0</td>\n",
       "      <td>33634931.0</td>\n",
       "      <td>-117869207.0</td>\n",
       "      <td>0.0</td>\n",
       "      <td>1998.0</td>\n",
       "      <td>1023282.0</td>\n",
       "      <td>0.025595</td>\n",
       "      <td>2017-01-01</td>\n",
       "    </tr>\n",
       "    <tr>\n",
       "      <th>1</th>\n",
       "      <td>1.0</td>\n",
       "      <td>2.0</td>\n",
       "      <td>1465.0</td>\n",
       "      <td>6111.0</td>\n",
       "      <td>1.0</td>\n",
       "      <td>34449266.0</td>\n",
       "      <td>-119281531.0</td>\n",
       "      <td>5.0</td>\n",
       "      <td>1967.0</td>\n",
       "      <td>464000.0</td>\n",
       "      <td>0.055619</td>\n",
       "      <td>2017-01-01</td>\n",
       "    </tr>\n",
       "    <tr>\n",
       "      <th>2</th>\n",
       "      <td>2.0</td>\n",
       "      <td>3.0</td>\n",
       "      <td>1243.0</td>\n",
       "      <td>6059.0</td>\n",
       "      <td>2.0</td>\n",
       "      <td>33886168.0</td>\n",
       "      <td>-117823170.0</td>\n",
       "      <td>6.0</td>\n",
       "      <td>1962.0</td>\n",
       "      <td>564778.0</td>\n",
       "      <td>0.005383</td>\n",
       "      <td>2017-01-01</td>\n",
       "    </tr>\n",
       "    <tr>\n",
       "      <th>3</th>\n",
       "      <td>3.0</td>\n",
       "      <td>4.0</td>\n",
       "      <td>2376.0</td>\n",
       "      <td>6037.0</td>\n",
       "      <td>3.0</td>\n",
       "      <td>34245180.0</td>\n",
       "      <td>-118240722.0</td>\n",
       "      <td>0.0</td>\n",
       "      <td>1970.0</td>\n",
       "      <td>145143.0</td>\n",
       "      <td>-0.103410</td>\n",
       "      <td>2017-01-01</td>\n",
       "    </tr>\n",
       "    <tr>\n",
       "      <th>4</th>\n",
       "      <td>3.0</td>\n",
       "      <td>3.0</td>\n",
       "      <td>1312.0</td>\n",
       "      <td>6037.0</td>\n",
       "      <td>3.0</td>\n",
       "      <td>34185120.0</td>\n",
       "      <td>-118414640.0</td>\n",
       "      <td>0.0</td>\n",
       "      <td>1964.0</td>\n",
       "      <td>119407.0</td>\n",
       "      <td>0.006940</td>\n",
       "      <td>2017-01-01</td>\n",
       "    </tr>\n",
       "    <tr>\n",
       "      <th>...</th>\n",
       "      <td>...</td>\n",
       "      <td>...</td>\n",
       "      <td>...</td>\n",
       "      <td>...</td>\n",
       "      <td>...</td>\n",
       "      <td>...</td>\n",
       "      <td>...</td>\n",
       "      <td>...</td>\n",
       "      <td>...</td>\n",
       "      <td>...</td>\n",
       "      <td>...</td>\n",
       "      <td>...</td>\n",
       "    </tr>\n",
       "    <tr>\n",
       "      <th>77375</th>\n",
       "      <td>3.0</td>\n",
       "      <td>3.0</td>\n",
       "      <td>1741.0</td>\n",
       "      <td>6037.0</td>\n",
       "      <td>3.0</td>\n",
       "      <td>34202400.0</td>\n",
       "      <td>-118502000.0</td>\n",
       "      <td>0.0</td>\n",
       "      <td>1980.0</td>\n",
       "      <td>379000.0</td>\n",
       "      <td>-0.002245</td>\n",
       "      <td>2017-09-20</td>\n",
       "    </tr>\n",
       "    <tr>\n",
       "      <th>77376</th>\n",
       "      <td>2.0</td>\n",
       "      <td>2.0</td>\n",
       "      <td>1286.0</td>\n",
       "      <td>6037.0</td>\n",
       "      <td>2.0</td>\n",
       "      <td>34245368.0</td>\n",
       "      <td>-118282383.0</td>\n",
       "      <td>0.0</td>\n",
       "      <td>1940.0</td>\n",
       "      <td>354621.0</td>\n",
       "      <td>0.020615</td>\n",
       "      <td>2017-09-20</td>\n",
       "    </tr>\n",
       "    <tr>\n",
       "      <th>77377</th>\n",
       "      <td>2.0</td>\n",
       "      <td>4.0</td>\n",
       "      <td>1612.0</td>\n",
       "      <td>6111.0</td>\n",
       "      <td>2.0</td>\n",
       "      <td>34300140.0</td>\n",
       "      <td>-118706327.0</td>\n",
       "      <td>7.0</td>\n",
       "      <td>1964.0</td>\n",
       "      <td>67205.0</td>\n",
       "      <td>0.013209</td>\n",
       "      <td>2017-09-21</td>\n",
       "    </tr>\n",
       "    <tr>\n",
       "      <th>77378</th>\n",
       "      <td>1.0</td>\n",
       "      <td>3.0</td>\n",
       "      <td>1032.0</td>\n",
       "      <td>6037.0</td>\n",
       "      <td>1.0</td>\n",
       "      <td>34040895.0</td>\n",
       "      <td>-118038169.0</td>\n",
       "      <td>0.0</td>\n",
       "      <td>1954.0</td>\n",
       "      <td>49546.0</td>\n",
       "      <td>0.037129</td>\n",
       "      <td>2017-09-21</td>\n",
       "    </tr>\n",
       "    <tr>\n",
       "      <th>77379</th>\n",
       "      <td>2.0</td>\n",
       "      <td>3.0</td>\n",
       "      <td>1762.0</td>\n",
       "      <td>6037.0</td>\n",
       "      <td>2.0</td>\n",
       "      <td>33937685.0</td>\n",
       "      <td>-117996709.0</td>\n",
       "      <td>0.0</td>\n",
       "      <td>1955.0</td>\n",
       "      <td>522000.0</td>\n",
       "      <td>0.007204</td>\n",
       "      <td>2017-09-25</td>\n",
       "    </tr>\n",
       "  </tbody>\n",
       "</table>\n",
       "<p>71386 rows × 12 columns</p>\n",
       "</div>"
      ],
      "text/plain": [
       "       bathroomcnt  bedroomcnt  calculatedfinishedsquarefeet    fips  \\\n",
       "0              3.5         4.0                        3100.0  6059.0   \n",
       "1              1.0         2.0                        1465.0  6111.0   \n",
       "2              2.0         3.0                        1243.0  6059.0   \n",
       "3              3.0         4.0                        2376.0  6037.0   \n",
       "4              3.0         3.0                        1312.0  6037.0   \n",
       "...            ...         ...                           ...     ...   \n",
       "77375          3.0         3.0                        1741.0  6037.0   \n",
       "77376          2.0         2.0                        1286.0  6037.0   \n",
       "77377          2.0         4.0                        1612.0  6111.0   \n",
       "77378          1.0         3.0                        1032.0  6037.0   \n",
       "77379          2.0         3.0                        1762.0  6037.0   \n",
       "\n",
       "       fullbathcnt    latitude    longitude  roomcnt  yearbuilt  \\\n",
       "0              3.0  33634931.0 -117869207.0      0.0     1998.0   \n",
       "1              1.0  34449266.0 -119281531.0      5.0     1967.0   \n",
       "2              2.0  33886168.0 -117823170.0      6.0     1962.0   \n",
       "3              3.0  34245180.0 -118240722.0      0.0     1970.0   \n",
       "4              3.0  34185120.0 -118414640.0      0.0     1964.0   \n",
       "...            ...         ...          ...      ...        ...   \n",
       "77375          3.0  34202400.0 -118502000.0      0.0     1980.0   \n",
       "77376          2.0  34245368.0 -118282383.0      0.0     1940.0   \n",
       "77377          2.0  34300140.0 -118706327.0      7.0     1964.0   \n",
       "77378          1.0  34040895.0 -118038169.0      0.0     1954.0   \n",
       "77379          2.0  33937685.0 -117996709.0      0.0     1955.0   \n",
       "\n",
       "       taxvaluedollarcnt  logerror transactiondate  \n",
       "0              1023282.0  0.025595      2017-01-01  \n",
       "1               464000.0  0.055619      2017-01-01  \n",
       "2               564778.0  0.005383      2017-01-01  \n",
       "3               145143.0 -0.103410      2017-01-01  \n",
       "4               119407.0  0.006940      2017-01-01  \n",
       "...                  ...       ...             ...  \n",
       "77375           379000.0 -0.002245      2017-09-20  \n",
       "77376           354621.0  0.020615      2017-09-20  \n",
       "77377            67205.0  0.013209      2017-09-21  \n",
       "77378            49546.0  0.037129      2017-09-21  \n",
       "77379           522000.0  0.007204      2017-09-25  \n",
       "\n",
       "[71386 rows x 12 columns]"
      ]
     },
     "execution_count": 3,
     "metadata": {},
     "output_type": "execute_result"
    }
   ],
   "source": [
    "# get data\n",
    "zillow = wrangle_zillow.wrangle_zillow(0.6, 0.8)\n",
    "zillow"
   ]
  },
  {
   "cell_type": "markdown",
   "id": "868e58ee",
   "metadata": {},
   "source": [
    "#### Question 1: What are the individual distributions of the features?"
   ]
  },
  {
   "cell_type": "code",
   "execution_count": 10,
   "id": "d61856a0",
   "metadata": {},
   "outputs": [
    {
     "data": {
      "image/png": "[encoded data removed]",
      "text/plain": [
       "<Figure size 432x288 with 12 Axes>"
      ]
     },
     "metadata": {
      "needs_background": "light"
     },
     "output_type": "display_data"
    }
   ],
   "source": [
    "# view individual distributions of features\n",
    "zillow.hist();"
   ]
  },
  {
   "cell_type": "markdown",
   "id": "01c017b5",
   "metadata": {},
   "source": [
    "#### Answer 1:\n",
    "- `bedroomcnt`, `yearbuilt` are normally distributed.\n",
    "- There are outliers in `calculatedfinishedsquarefeet`, `bathroomcnt`, `bedroomcnt`, `fullbathcnt`, `roomcnt`, `taxvaluedollarcnt`, and `logerror`.\n",
    "- `taxvaluedollarcnt` has the biggest outlier problem\n",
    "- Data needs to be scaled\n",
    "\n",
    "Before moving onto further exploration, I will split the data."
   ]
  },
  {
   "cell_type": "code",
   "execution_count": 12,
   "id": "85335ddc",
   "metadata": {},
   "outputs": [
    {
     "data": {
      "text/html": [
       "<div>\n",
       "<style scoped>\n",
       "    .dataframe tbody tr th:only-of-type {\n",
       "        vertical-align: middle;\n",
       "    }\n",
       "\n",
       "    .dataframe tbody tr th {\n",
       "        vertical-align: top;\n",
       "    }\n",
       "\n",
       "    .dataframe thead th {\n",
       "        text-align: right;\n",
       "    }\n",
       "</style>\n",
       "<table border=\"1\" class=\"dataframe\">\n",
       "  <thead>\n",
       "    <tr style=\"text-align: right;\">\n",
       "      <th></th>\n",
       "      <th>bathroomcnt</th>\n",
       "      <th>bedroomcnt</th>\n",
       "      <th>calculatedfinishedsquarefeet</th>\n",
       "      <th>fips</th>\n",
       "      <th>fullbathcnt</th>\n",
       "      <th>latitude</th>\n",
       "      <th>longitude</th>\n",
       "      <th>roomcnt</th>\n",
       "      <th>yearbuilt</th>\n",
       "      <th>taxvaluedollarcnt</th>\n",
       "      <th>logerror</th>\n",
       "      <th>transactiondate</th>\n",
       "    </tr>\n",
       "  </thead>\n",
       "  <tbody>\n",
       "    <tr>\n",
       "      <th>7100</th>\n",
       "      <td>3.0</td>\n",
       "      <td>4.0</td>\n",
       "      <td>2554.0</td>\n",
       "      <td>6037.0</td>\n",
       "      <td>3.0</td>\n",
       "      <td>34264369.0</td>\n",
       "      <td>-118552922.0</td>\n",
       "      <td>0.0</td>\n",
       "      <td>1974.0</td>\n",
       "      <td>159036.0</td>\n",
       "      <td>-0.015063</td>\n",
       "      <td>2017-02-01</td>\n",
       "    </tr>\n",
       "    <tr>\n",
       "      <th>51625</th>\n",
       "      <td>1.0</td>\n",
       "      <td>2.0</td>\n",
       "      <td>908.0</td>\n",
       "      <td>6037.0</td>\n",
       "      <td>1.0</td>\n",
       "      <td>33756137.0</td>\n",
       "      <td>-118133995.0</td>\n",
       "      <td>0.0</td>\n",
       "      <td>1939.0</td>\n",
       "      <td>648788.0</td>\n",
       "      <td>0.016101</td>\n",
       "      <td>2017-06-29</td>\n",
       "    </tr>\n",
       "    <tr>\n",
       "      <th>52487</th>\n",
       "      <td>3.0</td>\n",
       "      <td>2.0</td>\n",
       "      <td>2104.0</td>\n",
       "      <td>6037.0</td>\n",
       "      <td>3.0</td>\n",
       "      <td>34089942.0</td>\n",
       "      <td>-118451583.0</td>\n",
       "      <td>0.0</td>\n",
       "      <td>1963.0</td>\n",
       "      <td>1800000.0</td>\n",
       "      <td>0.045932</td>\n",
       "      <td>2017-06-30</td>\n",
       "    </tr>\n",
       "    <tr>\n",
       "      <th>42378</th>\n",
       "      <td>3.0</td>\n",
       "      <td>5.0</td>\n",
       "      <td>3925.0</td>\n",
       "      <td>6037.0</td>\n",
       "      <td>3.0</td>\n",
       "      <td>34080798.0</td>\n",
       "      <td>-118478171.0</td>\n",
       "      <td>0.0</td>\n",
       "      <td>1963.0</td>\n",
       "      <td>758151.0</td>\n",
       "      <td>0.085372</td>\n",
       "      <td>2017-06-01</td>\n",
       "    </tr>\n",
       "    <tr>\n",
       "      <th>12784</th>\n",
       "      <td>2.5</td>\n",
       "      <td>4.0</td>\n",
       "      <td>1890.0</td>\n",
       "      <td>6059.0</td>\n",
       "      <td>2.0</td>\n",
       "      <td>33551059.0</td>\n",
       "      <td>-117726705.0</td>\n",
       "      <td>0.0</td>\n",
       "      <td>1996.0</td>\n",
       "      <td>418776.0</td>\n",
       "      <td>-0.050413</td>\n",
       "      <td>2017-02-27</td>\n",
       "    </tr>\n",
       "  </tbody>\n",
       "</table>\n",
       "</div>"
      ],
      "text/plain": [
       "       bathroomcnt  bedroomcnt  calculatedfinishedsquarefeet    fips  \\\n",
       "7100           3.0         4.0                        2554.0  6037.0   \n",
       "51625          1.0         2.0                         908.0  6037.0   \n",
       "52487          3.0         2.0                        2104.0  6037.0   \n",
       "42378          3.0         5.0                        3925.0  6037.0   \n",
       "12784          2.5         4.0                        1890.0  6059.0   \n",
       "\n",
       "       fullbathcnt    latitude    longitude  roomcnt  yearbuilt  \\\n",
       "7100           3.0  34264369.0 -118552922.0      0.0     1974.0   \n",
       "51625          1.0  33756137.0 -118133995.0      0.0     1939.0   \n",
       "52487          3.0  34089942.0 -118451583.0      0.0     1963.0   \n",
       "42378          3.0  34080798.0 -118478171.0      0.0     1963.0   \n",
       "12784          2.0  33551059.0 -117726705.0      0.0     1996.0   \n",
       "\n",
       "       taxvaluedollarcnt  logerror transactiondate  \n",
       "7100            159036.0 -0.015063      2017-02-01  \n",
       "51625           648788.0  0.016101      2017-06-29  \n",
       "52487          1800000.0  0.045932      2017-06-30  \n",
       "42378           758151.0  0.085372      2017-06-01  \n",
       "12784           418776.0 -0.050413      2017-02-27  "
      ]
     },
     "execution_count": 12,
     "metadata": {},
     "output_type": "execute_result"
    }
   ],
   "source": [
    "# function to split data\n",
    "def split_data(df):\n",
    "    '''\n",
    "    This function takes in a dataframe and splits it into three dataframes.\n",
    "    It returns these dataframes in this order: train, validate, test.\n",
    "    Train makes up 56% of the total observations, validate 24%, and test 20%.\n",
    "    '''\n",
    "    from sklearn.model_selection import train_test_split\n",
    "    train, test = train_test_split(df, test_size=0.2, random_state=123)\n",
    "    train, validate = train_test_split(train, test_size=0.3, random_state=123)\n",
    "    return train, validate, test\n",
    "# split data\n",
    "train, validate, test = split_data(zillow)\n",
    "# preview train\n",
    "train.head()"
   ]
  },
  {
   "cell_type": "code",
   "execution_count": 16,
   "id": "51b37144",
   "metadata": {},
   "outputs": [
    {
     "data": {
      "text/html": [
       "<div>\n",
       "<style scoped>\n",
       "    .dataframe tbody tr th:only-of-type {\n",
       "        vertical-align: middle;\n",
       "    }\n",
       "\n",
       "    .dataframe tbody tr th {\n",
       "        vertical-align: top;\n",
       "    }\n",
       "\n",
       "    .dataframe thead th {\n",
       "        text-align: right;\n",
       "    }\n",
       "</style>\n",
       "<table border=\"1\" class=\"dataframe\">\n",
       "  <thead>\n",
       "    <tr style=\"text-align: right;\">\n",
       "      <th></th>\n",
       "      <th>count</th>\n",
       "      <th>mean</th>\n",
       "      <th>std</th>\n",
       "      <th>min</th>\n",
       "      <th>25%</th>\n",
       "      <th>50%</th>\n",
       "      <th>75%</th>\n",
       "      <th>max</th>\n",
       "    </tr>\n",
       "  </thead>\n",
       "  <tbody>\n",
       "    <tr>\n",
       "      <th>bathroomcnt</th>\n",
       "      <td>39975.0</td>\n",
       "      <td>2.268218e+00</td>\n",
       "      <td>0.943190</td>\n",
       "      <td>1.000000e+00</td>\n",
       "      <td>2.000000e+00</td>\n",
       "      <td>2.000000e+00</td>\n",
       "      <td>3.000000e+00</td>\n",
       "      <td>1.300000e+01</td>\n",
       "    </tr>\n",
       "    <tr>\n",
       "      <th>bedroomcnt</th>\n",
       "      <td>39975.0</td>\n",
       "      <td>3.007930e+00</td>\n",
       "      <td>1.017662</td>\n",
       "      <td>0.000000e+00</td>\n",
       "      <td>2.000000e+00</td>\n",
       "      <td>3.000000e+00</td>\n",
       "      <td>4.000000e+00</td>\n",
       "      <td>1.000000e+01</td>\n",
       "    </tr>\n",
       "    <tr>\n",
       "      <th>calculatedfinishedsquarefeet</th>\n",
       "      <td>39975.0</td>\n",
       "      <td>1.754691e+03</td>\n",
       "      <td>938.017085</td>\n",
       "      <td>3.430000e+02</td>\n",
       "      <td>1.166000e+03</td>\n",
       "      <td>1.512000e+03</td>\n",
       "      <td>2.073500e+03</td>\n",
       "      <td>2.192900e+04</td>\n",
       "    </tr>\n",
       "    <tr>\n",
       "      <th>fips</th>\n",
       "      <td>39975.0</td>\n",
       "      <td>6.049271e+03</td>\n",
       "      <td>20.848202</td>\n",
       "      <td>6.037000e+03</td>\n",
       "      <td>6.037000e+03</td>\n",
       "      <td>6.037000e+03</td>\n",
       "      <td>6.059000e+03</td>\n",
       "      <td>6.111000e+03</td>\n",
       "    </tr>\n",
       "    <tr>\n",
       "      <th>fullbathcnt</th>\n",
       "      <td>39975.0</td>\n",
       "      <td>2.197073e+00</td>\n",
       "      <td>0.923358</td>\n",
       "      <td>1.000000e+00</td>\n",
       "      <td>2.000000e+00</td>\n",
       "      <td>2.000000e+00</td>\n",
       "      <td>3.000000e+00</td>\n",
       "      <td>1.300000e+01</td>\n",
       "    </tr>\n",
       "    <tr>\n",
       "      <th>latitude</th>\n",
       "      <td>39975.0</td>\n",
       "      <td>3.400571e+07</td>\n",
       "      <td>268493.349611</td>\n",
       "      <td>3.333953e+07</td>\n",
       "      <td>3.380553e+07</td>\n",
       "      <td>3.401950e+07</td>\n",
       "      <td>3.417650e+07</td>\n",
       "      <td>3.481877e+07</td>\n",
       "    </tr>\n",
       "    <tr>\n",
       "      <th>longitude</th>\n",
       "      <td>39975.0</td>\n",
       "      <td>-1.181978e+08</td>\n",
       "      <td>362284.274155</td>\n",
       "      <td>-1.194754e+08</td>\n",
       "      <td>-1.184171e+08</td>\n",
       "      <td>-1.181708e+08</td>\n",
       "      <td>-1.179175e+08</td>\n",
       "      <td>-1.175546e+08</td>\n",
       "    </tr>\n",
       "    <tr>\n",
       "      <th>roomcnt</th>\n",
       "      <td>39975.0</td>\n",
       "      <td>1.574334e+00</td>\n",
       "      <td>2.900205</td>\n",
       "      <td>0.000000e+00</td>\n",
       "      <td>0.000000e+00</td>\n",
       "      <td>0.000000e+00</td>\n",
       "      <td>0.000000e+00</td>\n",
       "      <td>1.400000e+01</td>\n",
       "    </tr>\n",
       "    <tr>\n",
       "      <th>yearbuilt</th>\n",
       "      <td>39975.0</td>\n",
       "      <td>1.969300e+03</td>\n",
       "      <td>23.251278</td>\n",
       "      <td>1.878000e+03</td>\n",
       "      <td>1.954000e+03</td>\n",
       "      <td>1.970000e+03</td>\n",
       "      <td>1.987000e+03</td>\n",
       "      <td>2.016000e+03</td>\n",
       "    </tr>\n",
       "    <tr>\n",
       "      <th>taxvaluedollarcnt</th>\n",
       "      <td>39975.0</td>\n",
       "      <td>4.877464e+05</td>\n",
       "      <td>600423.491500</td>\n",
       "      <td>1.000000e+03</td>\n",
       "      <td>2.052805e+05</td>\n",
       "      <td>3.590000e+05</td>\n",
       "      <td>5.695100e+05</td>\n",
       "      <td>2.434570e+07</td>\n",
       "    </tr>\n",
       "    <tr>\n",
       "      <th>logerror</th>\n",
       "      <td>39975.0</td>\n",
       "      <td>1.544468e-02</td>\n",
       "      <td>0.163380</td>\n",
       "      <td>-4.655420e+00</td>\n",
       "      <td>-2.356240e-02</td>\n",
       "      <td>6.581012e-03</td>\n",
       "      <td>3.798697e-02</td>\n",
       "      <td>3.394544e+00</td>\n",
       "    </tr>\n",
       "  </tbody>\n",
       "</table>\n",
       "</div>"
      ],
      "text/plain": [
       "                                count          mean            std  \\\n",
       "bathroomcnt                   39975.0  2.268218e+00       0.943190   \n",
       "bedroomcnt                    39975.0  3.007930e+00       1.017662   \n",
       "calculatedfinishedsquarefeet  39975.0  1.754691e+03     938.017085   \n",
       "fips                          39975.0  6.049271e+03      20.848202   \n",
       "fullbathcnt                   39975.0  2.197073e+00       0.923358   \n",
       "latitude                      39975.0  3.400571e+07  268493.349611   \n",
       "longitude                     39975.0 -1.181978e+08  362284.274155   \n",
       "roomcnt                       39975.0  1.574334e+00       2.900205   \n",
       "yearbuilt                     39975.0  1.969300e+03      23.251278   \n",
       "taxvaluedollarcnt             39975.0  4.877464e+05  600423.491500   \n",
       "logerror                      39975.0  1.544468e-02       0.163380   \n",
       "\n",
       "                                       min           25%           50%  \\\n",
       "bathroomcnt                   1.000000e+00  2.000000e+00  2.000000e+00   \n",
       "bedroomcnt                    0.000000e+00  2.000000e+00  3.000000e+00   \n",
       "calculatedfinishedsquarefeet  3.430000e+02  1.166000e+03  1.512000e+03   \n",
       "fips                          6.037000e+03  6.037000e+03  6.037000e+03   \n",
       "fullbathcnt                   1.000000e+00  2.000000e+00  2.000000e+00   \n",
       "latitude                      3.333953e+07  3.380553e+07  3.401950e+07   \n",
       "longitude                    -1.194754e+08 -1.184171e+08 -1.181708e+08   \n",
       "roomcnt                       0.000000e+00  0.000000e+00  0.000000e+00   \n",
       "yearbuilt                     1.878000e+03  1.954000e+03  1.970000e+03   \n",
       "taxvaluedollarcnt             1.000000e+03  2.052805e+05  3.590000e+05   \n",
       "logerror                     -4.655420e+00 -2.356240e-02  6.581012e-03   \n",
       "\n",
       "                                       75%           max  \n",
       "bathroomcnt                   3.000000e+00  1.300000e+01  \n",
       "bedroomcnt                    4.000000e+00  1.000000e+01  \n",
       "calculatedfinishedsquarefeet  2.073500e+03  2.192900e+04  \n",
       "fips                          6.059000e+03  6.111000e+03  \n",
       "fullbathcnt                   3.000000e+00  1.300000e+01  \n",
       "latitude                      3.417650e+07  3.481877e+07  \n",
       "longitude                    -1.179175e+08 -1.175546e+08  \n",
       "roomcnt                       0.000000e+00  1.400000e+01  \n",
       "yearbuilt                     1.987000e+03  2.016000e+03  \n",
       "taxvaluedollarcnt             5.695100e+05  2.434570e+07  \n",
       "logerror                      3.798697e-02  3.394544e+00  "
      ]
     },
     "execution_count": 16,
     "metadata": {},
     "output_type": "execute_result"
    }
   ],
   "source": [
    "train.describe().T"
   ]
  },
  {
   "cell_type": "code",
   "execution_count": 17,
   "id": "fcbf49b4",
   "metadata": {},
   "outputs": [
    {
     "name": "stdout",
     "output_type": "stream",
     "text": [
      "<class 'pandas.core.frame.DataFrame'>\n",
      "Int64Index: 39975 entries, 7100 to 56311\n",
      "Data columns (total 12 columns):\n",
      " #   Column                        Non-Null Count  Dtype  \n",
      "---  ------                        --------------  -----  \n",
      " 0   bathroomcnt                   39975 non-null  float64\n",
      " 1   bedroomcnt                    39975 non-null  float64\n",
      " 2   calculatedfinishedsquarefeet  39975 non-null  float64\n",
      " 3   fips                          39975 non-null  float64\n",
      " 4   fullbathcnt                   39975 non-null  float64\n",
      " 5   latitude                      39975 non-null  float64\n",
      " 6   longitude                     39975 non-null  float64\n",
      " 7   roomcnt                       39975 non-null  float64\n",
      " 8   yearbuilt                     39975 non-null  float64\n",
      " 9   taxvaluedollarcnt             39975 non-null  float64\n",
      " 10  logerror                      39975 non-null  float64\n",
      " 11  transactiondate               39975 non-null  object \n",
      "dtypes: float64(11), object(1)\n",
      "memory usage: 4.0+ MB\n"
     ]
    }
   ],
   "source": [
    "train.info()"
   ]
  },
  {
   "cell_type": "markdown",
   "id": "9ecaea62",
   "metadata": {},
   "source": [
    "#### Question 2: Is there a relationship between `logerror` and `yearbuilt`?\n",
    "\n",
    "- Maybe values of homes built during a certain time period are more difficult to accurately predict."
   ]
  },
  {
   "cell_type": "code",
   "execution_count": 26,
   "id": "db8d1cc5",
   "metadata": {},
   "outputs": [
    {
     "data": {
      "text/plain": [
       "<seaborn.axisgrid.FacetGrid at 0x7f8f40da0730>"
      ]
     },
     "execution_count": 26,
     "metadata": {},
     "output_type": "execute_result"
    },
    {
     "data": {
      "image/png": "[encoded data removed]",
      "text/plain": [
       "<Figure size 360x360 with 1 Axes>"
      ]
     },
     "metadata": {
      "needs_background": "light"
     },
     "output_type": "display_data"
    }
   ],
   "source": [
    "sns.relplot(data=train, x='yearbuilt', y='logerror')"
   ]
  },
  {
   "cell_type": "markdown",
   "id": "bfb7829e",
   "metadata": {},
   "source": [
    "There doesn't appear to be much of a relationship between `yearbuilt` and `logerror`. To be sure, though, I'll run a statistical test.\n",
    "\n",
    "- $H_{0}$: There is not a significant linear relationship between `yearbuilt` and `logerror`.\n",
    "- $H_{a}$: There is a significant linear relationship between `yearbuilt` and `logerror`."
   ]
  },
  {
   "cell_type": "code",
   "execution_count": 24,
   "id": "71d6bcf2",
   "metadata": {},
   "outputs": [
    {
     "data": {
      "text/plain": [
       "(0.013821504584795707, 0.005718815668382649)"
      ]
     },
     "execution_count": 24,
     "metadata": {},
     "output_type": "execute_result"
    }
   ],
   "source": [
    "alpha = 0.05\n",
    "corr, p = stats.pearsonr(train.yearbuilt, train.logerror)\n",
    "corr, p"
   ]
  },
  {
   "cell_type": "markdown",
   "id": "a06a3963",
   "metadata": {},
   "source": [
    "#### Answer 2: Based on the results of the correlation test, it appears there is a linear relationship between the two variables.\n",
    "\n",
    "However, I am uncertain about the strength of this relationship. In the visualization, I can see some variation in logerror as the years progress, but it is still not very clear. It seems that newer homes are more likely to have more error in their predicted values, but it looks pretty similar from 1940 onward. I would like to investigate this further and perhaps bin the `yearbuilt` data by decade and see if I can get a better idea of the relationship between these two variables."
   ]
  },
  {
   "cell_type": "code",
   "execution_count": null,
   "id": "34f5bee5",
   "metadata": {},
   "outputs": [],
   "source": []
  },
  {
   "cell_type": "markdown",
   "id": "4c7d37e9",
   "metadata": {},
   "source": [
    "#### Question 3: Is there a relationship between `logerror` and `calculatedfinishedsquarefeet`?"
   ]
  },
  {
   "cell_type": "code",
   "execution_count": 27,
   "id": "b72cf50d",
   "metadata": {},
   "outputs": [
    {
     "data": {
      "text/plain": [
       "<seaborn.axisgrid.FacetGrid at 0x7f8f40db4820>"
      ]
     },
     "execution_count": 27,
     "metadata": {},
     "output_type": "execute_result"
    },
    {
     "data": {
      "image/png": "[encoded data removed]",
      "text/plain": [
       "<Figure size 360x360 with 1 Axes>"
      ]
     },
     "metadata": {
      "needs_background": "light"
     },
     "output_type": "display_data"
    }
   ],
   "source": [
    "sns.relplot(data=train, x='calculatedfinishedsquarefeet', y='logerror')"
   ]
  },
  {
   "cell_type": "markdown",
   "id": "8dce4ee6",
   "metadata": {},
   "source": [
    "At first glance, it appears there is a relationship between `logerror` and `calculatedfinishedsquarefeet`. Next, I'll run a correlation test to be sure there is a significant linear relationship.\n",
    "\n",
    "- $H_{0}$: There is not a significant linear relationship between `logerror` and `calculatedfinishedsquarefeet`.\n",
    "- $H_{a}$: There is a significant linear relationship between `logerror` and `calculatedfinishedsquarefeet`."
   ]
  },
  {
   "cell_type": "code",
   "execution_count": 28,
   "id": "6b0d49f2",
   "metadata": {},
   "outputs": [
    {
     "data": {
      "text/plain": [
       "(0.046617358655499125, 1.106326369292876e-20)"
      ]
     },
     "execution_count": 28,
     "metadata": {},
     "output_type": "execute_result"
    }
   ],
   "source": [
    "corr, p = stats.pearsonr(train.logerror, train.calculatedfinishedsquarefeet)\n",
    "corr, p"
   ]
  },
  {
   "cell_type": "markdown",
   "id": "5587d883",
   "metadata": {},
   "source": [
    "#### Answer 3: There is a significant linear relationship between `logerror` and `calculatedfinishedsquarefeet`.\n",
    "\n",
    "Based on the visualization and the results of the correlation test, I conclude there is a significant linear relationship between these two variables. It seems as though smaller homes are more likely to have more error in their predicted value."
   ]
  },
  {
   "cell_type": "markdown",
   "id": "220ae4aa",
   "metadata": {},
   "source": [
    "#### Question 4: Does `logerror` differ based on the property's county?"
   ]
  },
  {
   "cell_type": "code",
   "execution_count": 30,
   "id": "ada99d0a",
   "metadata": {},
   "outputs": [
    {
     "data": {
      "text/plain": [
       "<AxesSubplot:xlabel='fips', ylabel='logerror'>"
      ]
     },
     "execution_count": 30,
     "metadata": {},
     "output_type": "execute_result"
    },
    {
     "data": {
      "image/png": "[encoded data removed]",
      "text/plain": [
       "<Figure size 432x288 with 1 Axes>"
      ]
     },
     "metadata": {
      "needs_background": "light"
     },
     "output_type": "display_data"
    }
   ],
   "source": [
    "sns.boxplot(data=train, x='fips', y='logerror')"
   ]
  },
  {
   "cell_type": "markdown",
   "id": "e1a3fc81",
   "metadata": {},
   "source": [
    "There does appear to be somewhat of a difference in logerror between the three counties included in this data. I'll run a statistical test to be sure.\n",
    "\n",
    "- $H_{0}$: There is not a significant difference in logerror across the three counties.\n",
    "- $H_{a}$: There is a significant difference in logerror across the three counties."
   ]
  },
  {
   "cell_type": "code",
   "execution_count": null,
   "id": "7d00acf9",
   "metadata": {},
   "outputs": [],
   "source": []
  },
  {
   "cell_type": "markdown",
   "id": "39257609",
   "metadata": {},
   "source": [
    "#### Question 5: If I control for county (`fips`), does `logerror` differ across `yearbuilt`?"
   ]
  },
  {
   "cell_type": "code",
   "execution_count": null,
   "id": "cf572d4d",
   "metadata": {},
   "outputs": [],
   "source": []
  }
 ],
 "metadata": {
  "kernelspec": {
   "display_name": "Python 3",
   "language": "python",
   "name": "python3"
  },
  "language_info": {
   "codemirror_mode": {
    "name": "ipython",
    "version": 3
   },
   "file_extension": ".py",
   "mimetype": "text/x-python",
   "name": "python",
   "nbconvert_exporter": "python",
   "pygments_lexer": "ipython3",
   "version": "3.8.8"
  }
 },
 "nbformat": 4,
 "nbformat_minor": 5
}
